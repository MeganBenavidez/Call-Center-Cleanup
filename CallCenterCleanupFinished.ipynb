{
 "cells": [
  {
   "cell_type": "markdown",
   "id": "458bdb75",
   "metadata": {},
   "source": [
    "# Call Center Cleanup\n",
    "\n",
    "For this assignment, we will be working with call center data. You can start working on the assignment after the first lesson on Exploratory Data Analysis. Make sure to read the whole assignment before starting anything! As you code along in the Jupyter notebook, you are asked to make note of the results of your analysis. Do so by clicking on the results box and adding your notes beside each question.\n",
    "\n",
    "## Business Issue and Understanding\n",
    "\n",
    "You are working for a company that has two call centers: the North Call Center and the South Call Center. The company is looking to possibly hire five additional reps to enhance customer experience. Your task is to explore how efficient the current reps are in each branch to determine which branch would benefit from additional assistance.\n",
    "\n",
    "### How the Call Center Works\n",
    "\n",
    "Call center representatives are assigned queues. When calls are assigned to a queue, the call is assigned to the next person in line in the queue. After a call is assigned to a representative, the amount of time between assignment and the call starting is divided into busy minutes and not ready minutes. If the call is incoming and a customer is waiting on the phone for a rep, the time is split into three categories: busy minutes, not ready minutes, and incoming call wait time. Once the rep has the customer on the phone, there might be during call wait time, where the call is put on hold while the rep gets an answer for the customer.\n",
    "\n",
    "### Notes about the Dataset\n",
    "\n",
    "If you haven't worked in a call center before, these notes might help you throughout your analysis.\n",
    "\n",
    "* The call purpose is tagged for each call.\n",
    "* The time of the call is tagged in 1 hour blocks starting at 9:00 AM and ending at 5:00 PM.\n",
    "* Calls are tagged as incoming or outgoing.\n",
    "* Reps are assigned to queues. When the reps are working, they take calls in the order of their queue.\n",
    "* A call that is dropped due to technical error or missed by the center because they have reached maximum capacity is a lost call.\n",
    "* An abandoned call is when the customer hangs up because they have been waiting for too long.\n",
    "* Busy Minutes: the amount of time after a call comes in or needs to go out where the assigned rep is not available because they are busy with other customers.\n",
    "* Not Ready Minutes: the amount of time after a call comes in or needs to go out where the assigned rep is not available because they are not ready (for example, getting water).\n",
    "* Incoming Wait Time - amount of time after assigned rep is available to take the call customer waits for representative to pick up a call. This is tracked in seconds.\n",
    "* During Call Wait Time - amount of time during call that customer has to wait for representative\n",
    "\n",
    "## Getting Started\n",
    "\n",
    "You have two CSVs at your disposal, `NorthCallCenter.csv` and `SouthCallCenter.csv`. Import the appropriate libraries and create two dataframes, one called `north_df` and one called `south_df`."
   ]
  },
  {
   "cell_type": "code",
   "execution_count": 17,
   "id": "49aada97",
   "metadata": {},
   "outputs": [
    {
     "name": "stdout",
     "output_type": "stream",
     "text": [
      "  Branch     Call Purpose Time Block Incoming or Outgoing Queue Rep ID Sale  \\\n",
      "0  North        Complaint    9:00 AM             Incoming     B  Brent   NO   \n",
      "1  North    Sales Support   11:00 AM             Incoming     A    Cam   NO   \n",
      "2  North    Sales Support   11:00 AM             Incoming     B   Todd   NO   \n",
      "3  North    Sales Support    4:00 PM             Incoming     B  Brent   NO   \n",
      "4  North  Product Support   12:00 PM             Incoming     B  Brent   NO   \n",
      "\n",
      "   Lost Call  Abandoned  Busy Minutes  Not Ready Minutes  Incoming Wait Time  \\\n",
      "0          0          1             9                  2                 1.0   \n",
      "1          0          0            11                  1                 1.0   \n",
      "2          0          0             9                  3                 1.0   \n",
      "3          0          0            11                  2                 1.0   \n",
      "4          0          0             8                  2                 1.0   \n",
      "\n",
      "   During Call Wait Time  Calls  \n",
      "0                      4      1  \n",
      "1                      3      1  \n",
      "2                      3      1  \n",
      "3                      4      1  \n",
      "4                      4      1  \n",
      "  Branch   Call Purpose Time Block Incoming or Outgoing Queue Rep ID Sale  \\\n",
      "0  South  Sales Support   10:00 AM             Incoming     D   Kate   NO   \n",
      "1  South  Sales Support   10:00 AM             Incoming     C   Eric   NO   \n",
      "2  South  Sales Support   10:00 AM             Incoming     C  Susan   NO   \n",
      "3  South  Sales Support   10:00 AM             Incoming     C  Alice   NO   \n",
      "4  South  Sales Support   12:00 PM             Incoming     C  Sandy   NO   \n",
      "\n",
      "   Lost Call  Abandoned  Busy Minutes  Not Ready Minutes  Incoming Wait Time  \\\n",
      "0          0          0             9                  1                 1.0   \n",
      "1          0          0             8                  2                 1.0   \n",
      "2          0          0            10                  2                 1.0   \n",
      "3          0          0            12                  1                 1.0   \n",
      "4          0          0             8                  3                 1.0   \n",
      "\n",
      "   During Call Wait Time  Calls  \n",
      "0                      2      1  \n",
      "1                      4      1  \n",
      "2                      4      1  \n",
      "3                      3      1  \n",
      "4                      3      1  \n"
     ]
    }
   ],
   "source": [
    "# Import the appropriate libraries\n",
    "import pandas as pd\n",
    "import matplotlib \n",
    "import matplotlib.pyplot as plt\n",
    "import numpy as np\n",
    "\n",
    "# Create two new dataframes\n",
    "df_north=pd.read_csv(\"NorthCallCenter.csv\", index_col=0)\n",
    "df_south=pd.read_csv(\"SouthCallCenter.csv\", index_col=0)\n",
    "\n",
    "print(df_north.head())\n",
    "print(df_south.head())"
   ]
  },
  {
   "cell_type": "markdown",
   "id": "a644531e",
   "metadata": {},
   "source": [
    "## Exploratory Data Analysis\n",
    "\n",
    "Time to do some EDA! In the process of learning more about the two datasets, make sure you answer the following questions:\n",
    "\n",
    "1. How many reps are in each branch?\n",
    "2. What is the average busy minutes, not ready minutes, incoming wait time, and during call wait time for each branch?\n",
    "3. What is the number of calls taken for each time block?"
   ]
  },
  {
   "cell_type": "code",
   "execution_count": 18,
   "id": "4a75d2d0",
   "metadata": {},
   "outputs": [
    {
     "name": "stdout",
     "output_type": "stream",
     "text": [
      "<class 'pandas.core.frame.DataFrame'>\n",
      "Int64Index: 245 entries, 0 to 244\n",
      "Data columns (total 14 columns):\n",
      " #   Column                 Non-Null Count  Dtype  \n",
      "---  ------                 --------------  -----  \n",
      " 0   Branch                 245 non-null    object \n",
      " 1   Call Purpose           245 non-null    object \n",
      " 2   Time Block             245 non-null    object \n",
      " 3   Incoming or Outgoing   245 non-null    object \n",
      " 4   Queue                  245 non-null    object \n",
      " 5   Rep ID                 245 non-null    object \n",
      " 6   Sale                   245 non-null    object \n",
      " 7   Lost Call              245 non-null    int64  \n",
      " 8   Abandoned              245 non-null    int64  \n",
      " 9   Busy Minutes           245 non-null    int64  \n",
      " 10  Not Ready Minutes      245 non-null    int64  \n",
      " 11  Incoming Wait Time     82 non-null     float64\n",
      " 12  During Call Wait Time  245 non-null    int64  \n",
      " 13  Calls                  245 non-null    int64  \n",
      "dtypes: float64(1), int64(6), object(7)\n",
      "memory usage: 28.7+ KB\n"
     ]
    }
   ],
   "source": [
    "df_north.info()"
   ]
  },
  {
   "cell_type": "code",
   "execution_count": 19,
   "id": "f96b593c",
   "metadata": {},
   "outputs": [
    {
     "name": "stdout",
     "output_type": "stream",
     "text": [
      "<class 'pandas.core.frame.DataFrame'>\n",
      "Int64Index: 314 entries, 0 to 313\n",
      "Data columns (total 14 columns):\n",
      " #   Column                 Non-Null Count  Dtype  \n",
      "---  ------                 --------------  -----  \n",
      " 0   Branch                 314 non-null    object \n",
      " 1   Call Purpose           314 non-null    object \n",
      " 2   Time Block             314 non-null    object \n",
      " 3   Incoming or Outgoing   314 non-null    object \n",
      " 4   Queue                  314 non-null    object \n",
      " 5   Rep ID                 314 non-null    object \n",
      " 6   Sale                   314 non-null    object \n",
      " 7   Lost Call              314 non-null    int64  \n",
      " 8   Abandoned              314 non-null    int64  \n",
      " 9   Busy Minutes           314 non-null    int64  \n",
      " 10  Not Ready Minutes      314 non-null    int64  \n",
      " 11  Incoming Wait Time     126 non-null    float64\n",
      " 12  During Call Wait Time  314 non-null    int64  \n",
      " 13  Calls                  314 non-null    int64  \n",
      "dtypes: float64(1), int64(6), object(7)\n",
      "memory usage: 36.8+ KB\n"
     ]
    }
   ],
   "source": [
    "df_south.info()"
   ]
  },
  {
   "cell_type": "code",
   "execution_count": 20,
   "id": "092dbf12",
   "metadata": {},
   "outputs": [
    {
     "data": {
      "text/plain": [
       "(245, 14)"
      ]
     },
     "execution_count": 20,
     "metadata": {},
     "output_type": "execute_result"
    }
   ],
   "source": [
    "df_north.shape #Only NULL values in Incoming Wait Time"
   ]
  },
  {
   "cell_type": "code",
   "execution_count": 21,
   "id": "3c998ae6",
   "metadata": {},
   "outputs": [
    {
     "data": {
      "text/plain": [
       "(314, 14)"
      ]
     },
     "execution_count": 21,
     "metadata": {},
     "output_type": "execute_result"
    }
   ],
   "source": [
    "df_south.shape #Only NULL values in Incoming Wait Time"
   ]
  },
  {
   "cell_type": "code",
   "execution_count": 22,
   "id": "05a06a1f",
   "metadata": {},
   "outputs": [
    {
     "data": {
      "text/plain": [
       "9"
      ]
     },
     "execution_count": 22,
     "metadata": {},
     "output_type": "execute_result"
    }
   ],
   "source": [
    "# Put your EDA code here\n",
    "\n",
    "df_north[\"Rep ID\"].value_counts().count() #9 Reps"
   ]
  },
  {
   "cell_type": "code",
   "execution_count": 23,
   "id": "dd9665ef",
   "metadata": {},
   "outputs": [
    {
     "data": {
      "text/plain": [
       "11"
      ]
     },
     "execution_count": 23,
     "metadata": {},
     "output_type": "execute_result"
    }
   ],
   "source": [
    "df_south[\"Rep ID\"].value_counts().count() #11 Reps\n"
   ]
  },
  {
   "cell_type": "code",
   "execution_count": 24,
   "id": "9814dab6",
   "metadata": {},
   "outputs": [
    {
     "data": {
      "text/html": [
       "<div>\n",
       "<style scoped>\n",
       "    .dataframe tbody tr th:only-of-type {\n",
       "        vertical-align: middle;\n",
       "    }\n",
       "\n",
       "    .dataframe tbody tr th {\n",
       "        vertical-align: top;\n",
       "    }\n",
       "\n",
       "    .dataframe thead th {\n",
       "        text-align: right;\n",
       "    }\n",
       "</style>\n",
       "<table border=\"1\" class=\"dataframe\">\n",
       "  <thead>\n",
       "    <tr style=\"text-align: right;\">\n",
       "      <th></th>\n",
       "      <th>Lost Call</th>\n",
       "      <th>Abandoned</th>\n",
       "      <th>Busy Minutes</th>\n",
       "      <th>Not Ready Minutes</th>\n",
       "      <th>Incoming Wait Time</th>\n",
       "      <th>During Call Wait Time</th>\n",
       "      <th>Calls</th>\n",
       "    </tr>\n",
       "  </thead>\n",
       "  <tbody>\n",
       "    <tr>\n",
       "      <th>count</th>\n",
       "      <td>245.000000</td>\n",
       "      <td>245.000000</td>\n",
       "      <td>245.000000</td>\n",
       "      <td>245.000000</td>\n",
       "      <td>82.000000</td>\n",
       "      <td>245.000000</td>\n",
       "      <td>245.0</td>\n",
       "    </tr>\n",
       "    <tr>\n",
       "      <th>mean</th>\n",
       "      <td>0.020408</td>\n",
       "      <td>0.028571</td>\n",
       "      <td>9.987755</td>\n",
       "      <td>1.914286</td>\n",
       "      <td>3.048780</td>\n",
       "      <td>2.967347</td>\n",
       "      <td>1.0</td>\n",
       "    </tr>\n",
       "    <tr>\n",
       "      <th>std</th>\n",
       "      <td>0.141681</td>\n",
       "      <td>0.166940</td>\n",
       "      <td>1.403980</td>\n",
       "      <td>0.771416</td>\n",
       "      <td>1.456382</td>\n",
       "      <td>0.843827</td>\n",
       "      <td>0.0</td>\n",
       "    </tr>\n",
       "    <tr>\n",
       "      <th>min</th>\n",
       "      <td>0.000000</td>\n",
       "      <td>0.000000</td>\n",
       "      <td>8.000000</td>\n",
       "      <td>1.000000</td>\n",
       "      <td>1.000000</td>\n",
       "      <td>2.000000</td>\n",
       "      <td>1.0</td>\n",
       "    </tr>\n",
       "    <tr>\n",
       "      <th>25%</th>\n",
       "      <td>0.000000</td>\n",
       "      <td>0.000000</td>\n",
       "      <td>9.000000</td>\n",
       "      <td>1.000000</td>\n",
       "      <td>2.000000</td>\n",
       "      <td>2.000000</td>\n",
       "      <td>1.0</td>\n",
       "    </tr>\n",
       "    <tr>\n",
       "      <th>50%</th>\n",
       "      <td>0.000000</td>\n",
       "      <td>0.000000</td>\n",
       "      <td>10.000000</td>\n",
       "      <td>2.000000</td>\n",
       "      <td>3.000000</td>\n",
       "      <td>3.000000</td>\n",
       "      <td>1.0</td>\n",
       "    </tr>\n",
       "    <tr>\n",
       "      <th>75%</th>\n",
       "      <td>0.000000</td>\n",
       "      <td>0.000000</td>\n",
       "      <td>11.000000</td>\n",
       "      <td>3.000000</td>\n",
       "      <td>4.000000</td>\n",
       "      <td>4.000000</td>\n",
       "      <td>1.0</td>\n",
       "    </tr>\n",
       "    <tr>\n",
       "      <th>max</th>\n",
       "      <td>1.000000</td>\n",
       "      <td>1.000000</td>\n",
       "      <td>12.000000</td>\n",
       "      <td>3.000000</td>\n",
       "      <td>5.000000</td>\n",
       "      <td>4.000000</td>\n",
       "      <td>1.0</td>\n",
       "    </tr>\n",
       "  </tbody>\n",
       "</table>\n",
       "</div>"
      ],
      "text/plain": [
       "        Lost Call   Abandoned  Busy Minutes  Not Ready Minutes  \\\n",
       "count  245.000000  245.000000    245.000000         245.000000   \n",
       "mean     0.020408    0.028571      9.987755           1.914286   \n",
       "std      0.141681    0.166940      1.403980           0.771416   \n",
       "min      0.000000    0.000000      8.000000           1.000000   \n",
       "25%      0.000000    0.000000      9.000000           1.000000   \n",
       "50%      0.000000    0.000000     10.000000           2.000000   \n",
       "75%      0.000000    0.000000     11.000000           3.000000   \n",
       "max      1.000000    1.000000     12.000000           3.000000   \n",
       "\n",
       "       Incoming Wait Time  During Call Wait Time  Calls  \n",
       "count           82.000000             245.000000  245.0  \n",
       "mean             3.048780               2.967347    1.0  \n",
       "std              1.456382               0.843827    0.0  \n",
       "min              1.000000               2.000000    1.0  \n",
       "25%              2.000000               2.000000    1.0  \n",
       "50%              3.000000               3.000000    1.0  \n",
       "75%              4.000000               4.000000    1.0  \n",
       "max              5.000000               4.000000    1.0  "
      ]
     },
     "execution_count": 24,
     "metadata": {},
     "output_type": "execute_result"
    }
   ],
   "source": [
    "df_north.describe()\n",
    "\n",
    "#North: busy minutes-9.98, not ready minutes- 1.91, incoming wait time-3.05, during call wait time-2.97."
   ]
  },
  {
   "cell_type": "code",
   "execution_count": 25,
   "id": "4b121c92",
   "metadata": {},
   "outputs": [
    {
     "data": {
      "text/html": [
       "<div>\n",
       "<style scoped>\n",
       "    .dataframe tbody tr th:only-of-type {\n",
       "        vertical-align: middle;\n",
       "    }\n",
       "\n",
       "    .dataframe tbody tr th {\n",
       "        vertical-align: top;\n",
       "    }\n",
       "\n",
       "    .dataframe thead th {\n",
       "        text-align: right;\n",
       "    }\n",
       "</style>\n",
       "<table border=\"1\" class=\"dataframe\">\n",
       "  <thead>\n",
       "    <tr style=\"text-align: right;\">\n",
       "      <th></th>\n",
       "      <th>Lost Call</th>\n",
       "      <th>Abandoned</th>\n",
       "      <th>Busy Minutes</th>\n",
       "      <th>Not Ready Minutes</th>\n",
       "      <th>Incoming Wait Time</th>\n",
       "      <th>During Call Wait Time</th>\n",
       "      <th>Calls</th>\n",
       "    </tr>\n",
       "  </thead>\n",
       "  <tbody>\n",
       "    <tr>\n",
       "      <th>count</th>\n",
       "      <td>314.000000</td>\n",
       "      <td>314.000000</td>\n",
       "      <td>314.00000</td>\n",
       "      <td>314.000000</td>\n",
       "      <td>126.000000</td>\n",
       "      <td>314.000000</td>\n",
       "      <td>314.0</td>\n",
       "    </tr>\n",
       "    <tr>\n",
       "      <th>mean</th>\n",
       "      <td>0.035032</td>\n",
       "      <td>0.012739</td>\n",
       "      <td>10.05414</td>\n",
       "      <td>1.910828</td>\n",
       "      <td>3.000000</td>\n",
       "      <td>3.076433</td>\n",
       "      <td>1.0</td>\n",
       "    </tr>\n",
       "    <tr>\n",
       "      <th>std</th>\n",
       "      <td>0.184154</td>\n",
       "      <td>0.112324</td>\n",
       "      <td>1.40751</td>\n",
       "      <td>0.860016</td>\n",
       "      <td>1.308434</td>\n",
       "      <td>0.819424</td>\n",
       "      <td>0.0</td>\n",
       "    </tr>\n",
       "    <tr>\n",
       "      <th>min</th>\n",
       "      <td>0.000000</td>\n",
       "      <td>0.000000</td>\n",
       "      <td>8.00000</td>\n",
       "      <td>1.000000</td>\n",
       "      <td>1.000000</td>\n",
       "      <td>2.000000</td>\n",
       "      <td>1.0</td>\n",
       "    </tr>\n",
       "    <tr>\n",
       "      <th>25%</th>\n",
       "      <td>0.000000</td>\n",
       "      <td>0.000000</td>\n",
       "      <td>9.00000</td>\n",
       "      <td>1.000000</td>\n",
       "      <td>2.000000</td>\n",
       "      <td>2.000000</td>\n",
       "      <td>1.0</td>\n",
       "    </tr>\n",
       "    <tr>\n",
       "      <th>50%</th>\n",
       "      <td>0.000000</td>\n",
       "      <td>0.000000</td>\n",
       "      <td>10.00000</td>\n",
       "      <td>2.000000</td>\n",
       "      <td>3.000000</td>\n",
       "      <td>3.000000</td>\n",
       "      <td>1.0</td>\n",
       "    </tr>\n",
       "    <tr>\n",
       "      <th>75%</th>\n",
       "      <td>0.000000</td>\n",
       "      <td>0.000000</td>\n",
       "      <td>11.00000</td>\n",
       "      <td>3.000000</td>\n",
       "      <td>4.000000</td>\n",
       "      <td>4.000000</td>\n",
       "      <td>1.0</td>\n",
       "    </tr>\n",
       "    <tr>\n",
       "      <th>max</th>\n",
       "      <td>1.000000</td>\n",
       "      <td>1.000000</td>\n",
       "      <td>12.00000</td>\n",
       "      <td>3.000000</td>\n",
       "      <td>5.000000</td>\n",
       "      <td>4.000000</td>\n",
       "      <td>1.0</td>\n",
       "    </tr>\n",
       "  </tbody>\n",
       "</table>\n",
       "</div>"
      ],
      "text/plain": [
       "        Lost Call   Abandoned  Busy Minutes  Not Ready Minutes  \\\n",
       "count  314.000000  314.000000     314.00000         314.000000   \n",
       "mean     0.035032    0.012739      10.05414           1.910828   \n",
       "std      0.184154    0.112324       1.40751           0.860016   \n",
       "min      0.000000    0.000000       8.00000           1.000000   \n",
       "25%      0.000000    0.000000       9.00000           1.000000   \n",
       "50%      0.000000    0.000000      10.00000           2.000000   \n",
       "75%      0.000000    0.000000      11.00000           3.000000   \n",
       "max      1.000000    1.000000      12.00000           3.000000   \n",
       "\n",
       "       Incoming Wait Time  During Call Wait Time  Calls  \n",
       "count          126.000000             314.000000  314.0  \n",
       "mean             3.000000               3.076433    1.0  \n",
       "std              1.308434               0.819424    0.0  \n",
       "min              1.000000               2.000000    1.0  \n",
       "25%              2.000000               2.000000    1.0  \n",
       "50%              3.000000               3.000000    1.0  \n",
       "75%              4.000000               4.000000    1.0  \n",
       "max              5.000000               4.000000    1.0  "
      ]
     },
     "execution_count": 25,
     "metadata": {},
     "output_type": "execute_result"
    }
   ],
   "source": [
    "df_south.describe()\n",
    "\n",
    "#South: busy minutes-10.05, not ready minutes- 1.91, incoming wait time-3.00, during call wait time-3.07."
   ]
  },
  {
   "cell_type": "code",
   "execution_count": 26,
   "id": "33bfbd41",
   "metadata": {},
   "outputs": [
    {
     "data": {
      "text/plain": [
       "12:00 PM    45\n",
       "10:00 AM    43\n",
       "2:00 PM     35\n",
       "3:00 PM     30\n",
       "4:00 PM     28\n",
       "11:00 AM    25\n",
       "1:00 PM     17\n",
       "5:00 PM     17\n",
       "9:00 AM      5\n",
       "Name: Time Block, dtype: int64"
      ]
     },
     "execution_count": 26,
     "metadata": {},
     "output_type": "execute_result"
    }
   ],
   "source": [
    "df_north[\"Time Block\"].value_counts() #Number of calls for each time block"
   ]
  },
  {
   "cell_type": "code",
   "execution_count": 27,
   "id": "f715fc40",
   "metadata": {},
   "outputs": [
    {
     "data": {
      "text/plain": [
       "12:00 PM    75\n",
       "10:00 AM    56\n",
       "3:00 PM     43\n",
       "11:00 AM    31\n",
       "2:00 PM     30\n",
       "5:00 PM     26\n",
       "4:00 PM     25\n",
       "1:00 PM     23\n",
       "9:00 AM      5\n",
       "Name: Time Block, dtype: int64"
      ]
     },
     "execution_count": 27,
     "metadata": {},
     "output_type": "execute_result"
    }
   ],
   "source": [
    "df_south[\"Time Block\"].value_counts() #Number of calls for each time block"
   ]
  },
  {
   "cell_type": "markdown",
   "id": "198da45b",
   "metadata": {},
   "source": [
    "### EDA Results\n",
    "\n",
    "Make note of your results here!\n",
    "\n",
    "1. How many reps are in each branch? \n",
    "9 reps in the North branch and 11 reps in the South branch.\n",
    "\n",
    "2. What is the average busy minutes, not ready minutes, incoming wait time, and during call wait time for each branch? North: busy minutes-9.98, not ready minutes- 1.91, incoming wait time-3.05, during call wait time-2.97. South: busy minutes-10.05, not ready minutes- 1.91, incoming wait time-3.00, during call wait time-3.07.\n",
    "3. What is the number of calls taken for each time block? North: 12:00 PM    45\n",
    "10:00 AM    43\n",
    "2:00 PM     35\n",
    "3:00 PM     30\n",
    "4:00 PM     28\n",
    "11:00 AM    25\n",
    "1:00 PM     17\n",
    "5:00 PM     17\n",
    "9:00 AM      5\n",
    "South:12:00 PM    75\n",
    "10:00 AM    56\n",
    "3:00 PM     43\n",
    "11:00 AM    31\n",
    "2:00 PM     30\n",
    "5:00 PM     26\n",
    "4:00 PM     25\n",
    "1:00 PM     23\n",
    "9:00 AM      5"
   ]
  },
  {
   "cell_type": "markdown",
   "id": "ec92db6c",
   "metadata": {},
   "source": [
    "## Cleaning Data\n",
    "\n",
    "Now you need to clean up the datasets. When cleaning the datasets, you may find that there isn't dirty data to clean. That is okay! Some questions you need to answer about the data sets:\n",
    "\n",
    "1. Incoming wait time is null in many places. Do all of those places correspond to outgoing calls?\n",
    "2. In the North data set, there are two separate \"YES\" values for a sale. Why and how did you rectify the issue?\n",
    "3. Are there duplicates in the two data sets? If there are, how did you handle them?\n",
    "4. Is any of the data in the two data sets unnecessary? If yes, how did you handle it?"
   ]
  },
  {
   "cell_type": "code",
   "execution_count": 28,
   "id": "b50cfa8a",
   "metadata": {},
   "outputs": [
    {
     "name": "stdout",
     "output_type": "stream",
     "text": [
      "(245, 14)\n",
      "Branch                    object\n",
      "Call Purpose              object\n",
      "Time Block                object\n",
      "Incoming or Outgoing      object\n",
      "Queue                     object\n",
      "Rep ID                    object\n",
      "Sale                      object\n",
      "Lost Call                  int64\n",
      "Abandoned                  int64\n",
      "Busy Minutes               int64\n",
      "Not Ready Minutes          int64\n",
      "Incoming Wait Time       float64\n",
      "During Call Wait Time      int64\n",
      "Calls                      int64\n",
      "dtype: object\n",
      "\n",
      "(314, 14)\n",
      "Branch                    object\n",
      "Call Purpose              object\n",
      "Time Block                object\n",
      "Incoming or Outgoing      object\n",
      "Queue                     object\n",
      "Rep ID                    object\n",
      "Sale                      object\n",
      "Lost Call                  int64\n",
      "Abandoned                  int64\n",
      "Busy Minutes               int64\n",
      "Not Ready Minutes          int64\n",
      "Incoming Wait Time       float64\n",
      "During Call Wait Time      int64\n",
      "Calls                      int64\n",
      "dtype: object\n"
     ]
    }
   ],
   "source": [
    "# Clean your data here\n",
    "print(df_north.shape)\n",
    "print(df_north.dtypes)\n",
    "print()\n",
    "print(df_south.shape)\n",
    "print(df_south.dtypes)\n"
   ]
  },
  {
   "cell_type": "code",
   "execution_count": 29,
   "id": "dd37a1f7",
   "metadata": {},
   "outputs": [
    {
     "data": {
      "text/html": [
       "<div>\n",
       "<style scoped>\n",
       "    .dataframe tbody tr th:only-of-type {\n",
       "        vertical-align: middle;\n",
       "    }\n",
       "\n",
       "    .dataframe tbody tr th {\n",
       "        vertical-align: top;\n",
       "    }\n",
       "\n",
       "    .dataframe thead th {\n",
       "        text-align: right;\n",
       "    }\n",
       "</style>\n",
       "<table border=\"1\" class=\"dataframe\">\n",
       "  <thead>\n",
       "    <tr style=\"text-align: right;\">\n",
       "      <th></th>\n",
       "      <th>Incoming Wait Time</th>\n",
       "    </tr>\n",
       "    <tr>\n",
       "      <th>Incoming or Outgoing</th>\n",
       "      <th></th>\n",
       "    </tr>\n",
       "  </thead>\n",
       "  <tbody>\n",
       "    <tr>\n",
       "      <th>Incoming</th>\n",
       "      <td>3.04878</td>\n",
       "    </tr>\n",
       "    <tr>\n",
       "      <th>Outgoing</th>\n",
       "      <td>NaN</td>\n",
       "    </tr>\n",
       "  </tbody>\n",
       "</table>\n",
       "</div>"
      ],
      "text/plain": [
       "                      Incoming Wait Time\n",
       "Incoming or Outgoing                    \n",
       "Incoming                         3.04878\n",
       "Outgoing                             NaN"
      ]
     },
     "execution_count": 29,
     "metadata": {},
     "output_type": "execute_result"
    }
   ],
   "source": [
    "df_north[[\"Incoming or Outgoing\", \"Incoming Wait Time\"]].groupby(\"Incoming or Outgoing\").mean() \n",
    "#Outgoing calls have NULL incoming wait time"
   ]
  },
  {
   "cell_type": "code",
   "execution_count": 30,
   "id": "3d28e5af",
   "metadata": {},
   "outputs": [],
   "source": [
    "#Replaced NULL Incoming wait times \n",
    "#mean_north=df_north[\"Incoming Wait Time\"].mean()\n",
    "#df_north[\"Incoming Wait Time\"]=df_north[\"Incoming Wait Time\"].fillna(mean_north)\n",
    "#print(\"Updated: \")\n",
    "#df_north.tail()"
   ]
  },
  {
   "cell_type": "code",
   "execution_count": 31,
   "id": "5a5f9826",
   "metadata": {},
   "outputs": [
    {
     "data": {
      "text/plain": [
       "Branch                     0\n",
       "Call Purpose               0\n",
       "Time Block                 0\n",
       "Incoming or Outgoing       0\n",
       "Queue                      0\n",
       "Rep ID                     0\n",
       "Sale                       0\n",
       "Lost Call                  0\n",
       "Abandoned                  0\n",
       "Busy Minutes               0\n",
       "Not Ready Minutes          0\n",
       "Incoming Wait Time       188\n",
       "During Call Wait Time      0\n",
       "Calls                      0\n",
       "dtype: int64"
      ]
     },
     "execution_count": 31,
     "metadata": {},
     "output_type": "execute_result"
    }
   ],
   "source": [
    "df_south.isnull().sum()"
   ]
  },
  {
   "cell_type": "code",
   "execution_count": 513,
   "id": "a46cb149",
   "metadata": {},
   "outputs": [
    {
     "data": {
      "text/html": [
       "<div>\n",
       "<style scoped>\n",
       "    .dataframe tbody tr th:only-of-type {\n",
       "        vertical-align: middle;\n",
       "    }\n",
       "\n",
       "    .dataframe tbody tr th {\n",
       "        vertical-align: top;\n",
       "    }\n",
       "\n",
       "    .dataframe thead th {\n",
       "        text-align: right;\n",
       "    }\n",
       "</style>\n",
       "<table border=\"1\" class=\"dataframe\">\n",
       "  <thead>\n",
       "    <tr style=\"text-align: right;\">\n",
       "      <th></th>\n",
       "      <th>Incoming Wait Time</th>\n",
       "    </tr>\n",
       "    <tr>\n",
       "      <th>Incoming or Outgoing</th>\n",
       "      <th></th>\n",
       "    </tr>\n",
       "  </thead>\n",
       "  <tbody>\n",
       "    <tr>\n",
       "      <th>Incoming</th>\n",
       "      <td>3.0</td>\n",
       "    </tr>\n",
       "    <tr>\n",
       "      <th>Outgoing</th>\n",
       "      <td>NaN</td>\n",
       "    </tr>\n",
       "  </tbody>\n",
       "</table>\n",
       "</div>"
      ],
      "text/plain": [
       "                      Incoming Wait Time\n",
       "Incoming or Outgoing                    \n",
       "Incoming                             3.0\n",
       "Outgoing                             NaN"
      ]
     },
     "execution_count": 513,
     "metadata": {},
     "output_type": "execute_result"
    }
   ],
   "source": [
    "df_south[[\"Incoming or Outgoing\", \"Incoming Wait Time\"]].groupby(\"Incoming or Outgoing\").mean() \n",
    "#Outgoing calls have NULL incoming wait time"
   ]
  },
  {
   "cell_type": "code",
   "execution_count": 32,
   "id": "66f5ca9c",
   "metadata": {},
   "outputs": [],
   "source": [
    "#Replaced NULL Incoming wait times \n",
    "#mean_south=df_south[\"Incoming Wait Time\"].mean()\n",
    "#df_south[\"Incoming Wait Time\"]=df_south[\"Incoming Wait Time\"].fillna(mean_south)\n",
    "#print(\"Updated: \")\n",
    "#df_south.tail()"
   ]
  },
  {
   "cell_type": "code",
   "execution_count": 33,
   "id": "01111316",
   "metadata": {},
   "outputs": [
    {
     "name": "stdout",
     "output_type": "stream",
     "text": [
      "['Lost Call' 'Abandoned' 'Busy Minutes' 'Not Ready Minutes'\n",
      " 'Incoming Wait Time' 'During Call Wait Time' 'Calls']\n",
      "['Lost Call' 'Abandoned' 'Busy Minutes' 'Not Ready Minutes'\n",
      " 'Incoming Wait Time' 'During Call Wait Time' 'Calls']\n"
     ]
    }
   ],
   "source": [
    "#numeric columns\n",
    "df_numeric=df_north.select_dtypes(include=[np.number])\n",
    "numeric_cols=df_numeric.columns.values\n",
    "print(numeric_cols)\n",
    "\n",
    "#non numeric columns\n",
    "df_numeric=df_south.select_dtypes(include=[np.number])\n",
    "numeric_cols=df_numeric.columns.values\n",
    "print(numeric_cols)"
   ]
  },
  {
   "cell_type": "code",
   "execution_count": 34,
   "id": "746b893e",
   "metadata": {},
   "outputs": [
    {
     "name": "stdout",
     "output_type": "stream",
     "text": [
      "['Branch' 'Call Purpose' 'Time Block' 'Incoming or Outgoing' 'Queue'\n",
      " 'Rep ID' 'Sale']\n",
      "['Branch' 'Call Purpose' 'Time Block' 'Incoming or Outgoing' 'Queue'\n",
      " 'Rep ID' 'Sale']\n"
     ]
    }
   ],
   "source": [
    "#numeric columns\n",
    "df_non_numeric=df_north.select_dtypes(exclude=[np.number])\n",
    "non_numeric_cols=df_non_numeric.columns.values\n",
    "print(non_numeric_cols)\n",
    "\n",
    "#non numeric columns\n",
    "df_non_numeric=df_south.select_dtypes(exclude=[np.number])\n",
    "non_numeric_cols=df_non_numeric.columns.values\n",
    "print(non_numeric_cols)"
   ]
  },
  {
   "cell_type": "code",
   "execution_count": 35,
   "id": "df13e280",
   "metadata": {},
   "outputs": [
    {
     "name": "stdout",
     "output_type": "stream",
     "text": [
      "NO      234\n",
      "YES      10\n",
      "YES       1\n",
      "Name: Sale, dtype: int64\n",
      "object\n"
     ]
    }
   ],
   "source": [
    "print(df_north[\"Sale\"].value_counts())\n",
    "print(df_north[\"Sale\"].dtypes) \n",
    "#There is a space after one of the 'YES' values creating a seperate value of 'YES'."
   ]
  },
  {
   "cell_type": "code",
   "execution_count": 36,
   "id": "153a17f2",
   "metadata": {},
   "outputs": [
    {
     "name": "stdout",
     "output_type": "stream",
     "text": [
      "NO     234\n",
      "YES     11\n",
      "Name: Sale, dtype: int64\n"
     ]
    }
   ],
   "source": [
    "df_north['Sale'].replace('YES ', 'YES', inplace=True)\n",
    "print(df_north[\"Sale\"].value_counts())\n",
    "#Removed the space by using the replace funtion."
   ]
  },
  {
   "cell_type": "code",
   "execution_count": 37,
   "id": "30909bf6",
   "metadata": {},
   "outputs": [
    {
     "name": "stdout",
     "output_type": "stream",
     "text": [
      "2\n",
      "3\n"
     ]
    }
   ],
   "source": [
    "print(df_north.duplicated().sum()) #No duplicates\n",
    "print(df_south.duplicated().sum()) #No duplicates"
   ]
  },
  {
   "cell_type": "code",
   "execution_count": 38,
   "id": "d3dbcecc",
   "metadata": {},
   "outputs": [
    {
     "data": {
      "text/plain": [
       "Product Support    145\n",
       "Sales Support       85\n",
       "Complaint           15\n",
       "Name: Call Purpose, dtype: int64"
      ]
     },
     "execution_count": 38,
     "metadata": {},
     "output_type": "execute_result"
    }
   ],
   "source": [
    "df_north[\"Call Purpose\"].value_counts()#Checking values to see if the Call Purpose column should be dropped."
   ]
  },
  {
   "cell_type": "code",
   "execution_count": 521,
   "id": "2f3235d7",
   "metadata": {},
   "outputs": [
    {
     "data": {
      "text/plain": [
       "Product Support    165\n",
       "Sales Support      113\n",
       "Complaint           36\n",
       "Name: Call Purpose, dtype: int64"
      ]
     },
     "execution_count": 521,
     "metadata": {},
     "output_type": "execute_result"
    }
   ],
   "source": [
    "df_south[\"Call Purpose\"].value_counts()#Checking values to see if the Call Purpose column should be dropped."
   ]
  },
  {
   "cell_type": "code",
   "execution_count": 39,
   "id": "4a1cce7e",
   "metadata": {},
   "outputs": [],
   "source": [
    "#Dropping unnecessary columns\n",
    "#df_north.drop([\"Sale\"], axis=1, inplace=True)\n",
    "#df_north.head()"
   ]
  },
  {
   "cell_type": "code",
   "execution_count": 523,
   "id": "8542098b",
   "metadata": {},
   "outputs": [
    {
     "data": {
      "text/html": [
       "<div>\n",
       "<style scoped>\n",
       "    .dataframe tbody tr th:only-of-type {\n",
       "        vertical-align: middle;\n",
       "    }\n",
       "\n",
       "    .dataframe tbody tr th {\n",
       "        vertical-align: top;\n",
       "    }\n",
       "\n",
       "    .dataframe thead th {\n",
       "        text-align: right;\n",
       "    }\n",
       "</style>\n",
       "<table border=\"1\" class=\"dataframe\">\n",
       "  <thead>\n",
       "    <tr style=\"text-align: right;\">\n",
       "      <th></th>\n",
       "      <th>Unnamed: 0</th>\n",
       "      <th>Branch</th>\n",
       "      <th>Call Purpose</th>\n",
       "      <th>Time Block</th>\n",
       "      <th>Incoming or Outgoing</th>\n",
       "      <th>Queue</th>\n",
       "      <th>Rep ID</th>\n",
       "      <th>Lost Call</th>\n",
       "      <th>Abandoned</th>\n",
       "      <th>Busy Minutes</th>\n",
       "      <th>Not Ready Minutes</th>\n",
       "      <th>Incoming Wait Time</th>\n",
       "      <th>During Call Wait Time</th>\n",
       "      <th>Calls</th>\n",
       "    </tr>\n",
       "  </thead>\n",
       "  <tbody>\n",
       "    <tr>\n",
       "      <th>0</th>\n",
       "      <td>0</td>\n",
       "      <td>South</td>\n",
       "      <td>Sales Support</td>\n",
       "      <td>10:00 AM</td>\n",
       "      <td>Incoming</td>\n",
       "      <td>D</td>\n",
       "      <td>Kate</td>\n",
       "      <td>0</td>\n",
       "      <td>0</td>\n",
       "      <td>9</td>\n",
       "      <td>1</td>\n",
       "      <td>1.0</td>\n",
       "      <td>2</td>\n",
       "      <td>1</td>\n",
       "    </tr>\n",
       "    <tr>\n",
       "      <th>1</th>\n",
       "      <td>1</td>\n",
       "      <td>South</td>\n",
       "      <td>Sales Support</td>\n",
       "      <td>10:00 AM</td>\n",
       "      <td>Incoming</td>\n",
       "      <td>C</td>\n",
       "      <td>Eric</td>\n",
       "      <td>0</td>\n",
       "      <td>0</td>\n",
       "      <td>8</td>\n",
       "      <td>2</td>\n",
       "      <td>1.0</td>\n",
       "      <td>4</td>\n",
       "      <td>1</td>\n",
       "    </tr>\n",
       "    <tr>\n",
       "      <th>2</th>\n",
       "      <td>2</td>\n",
       "      <td>South</td>\n",
       "      <td>Sales Support</td>\n",
       "      <td>10:00 AM</td>\n",
       "      <td>Incoming</td>\n",
       "      <td>C</td>\n",
       "      <td>Susan</td>\n",
       "      <td>0</td>\n",
       "      <td>0</td>\n",
       "      <td>10</td>\n",
       "      <td>2</td>\n",
       "      <td>1.0</td>\n",
       "      <td>4</td>\n",
       "      <td>1</td>\n",
       "    </tr>\n",
       "    <tr>\n",
       "      <th>3</th>\n",
       "      <td>3</td>\n",
       "      <td>South</td>\n",
       "      <td>Sales Support</td>\n",
       "      <td>10:00 AM</td>\n",
       "      <td>Incoming</td>\n",
       "      <td>C</td>\n",
       "      <td>Alice</td>\n",
       "      <td>0</td>\n",
       "      <td>0</td>\n",
       "      <td>12</td>\n",
       "      <td>1</td>\n",
       "      <td>1.0</td>\n",
       "      <td>3</td>\n",
       "      <td>1</td>\n",
       "    </tr>\n",
       "    <tr>\n",
       "      <th>4</th>\n",
       "      <td>4</td>\n",
       "      <td>South</td>\n",
       "      <td>Sales Support</td>\n",
       "      <td>12:00 PM</td>\n",
       "      <td>Incoming</td>\n",
       "      <td>C</td>\n",
       "      <td>Sandy</td>\n",
       "      <td>0</td>\n",
       "      <td>0</td>\n",
       "      <td>8</td>\n",
       "      <td>3</td>\n",
       "      <td>1.0</td>\n",
       "      <td>3</td>\n",
       "      <td>1</td>\n",
       "    </tr>\n",
       "  </tbody>\n",
       "</table>\n",
       "</div>"
      ],
      "text/plain": [
       "   Unnamed: 0 Branch   Call Purpose Time Block Incoming or Outgoing Queue  \\\n",
       "0           0  South  Sales Support   10:00 AM             Incoming     D   \n",
       "1           1  South  Sales Support   10:00 AM             Incoming     C   \n",
       "2           2  South  Sales Support   10:00 AM             Incoming     C   \n",
       "3           3  South  Sales Support   10:00 AM             Incoming     C   \n",
       "4           4  South  Sales Support   12:00 PM             Incoming     C   \n",
       "\n",
       "  Rep ID  Lost Call  Abandoned  Busy Minutes  Not Ready Minutes  \\\n",
       "0   Kate          0          0             9                  1   \n",
       "1   Eric          0          0             8                  2   \n",
       "2  Susan          0          0            10                  2   \n",
       "3  Alice          0          0            12                  1   \n",
       "4  Sandy          0          0             8                  3   \n",
       "\n",
       "   Incoming Wait Time  During Call Wait Time  Calls  \n",
       "0                 1.0                      2      1  \n",
       "1                 1.0                      4      1  \n",
       "2                 1.0                      4      1  \n",
       "3                 1.0                      3      1  \n",
       "4                 1.0                      3      1  "
      ]
     },
     "execution_count": 523,
     "metadata": {},
     "output_type": "execute_result"
    }
   ],
   "source": [
    "#Dropping unnecessary columns\n",
    "df_south.drop([\"Sale\"], axis=1, inplace=True)\n",
    "df_south.head()"
   ]
  },
  {
   "cell_type": "markdown",
   "id": "79e80da0",
   "metadata": {},
   "source": [
    "### Cleaning Data Results\n",
    "\n",
    "Make note of your results!\n",
    "\n",
    "1. Incoming wait time is null in many places. Do all of those places correspond to outgoing calls? Yes. Did not replace the NULL value with the mean since the NULL is meaningful.\n",
    "2. In the North data set, there are two separate \"YES\" values for a sale. Why and how did you rectify the issue?A space after one of the 'YES' values created 2 seperate values. Updated the 'YES' value using the replace function\n",
    "3. Are there duplicates in the two data sets? If there are, how did you handle them? There are no duplicates.\n",
    "4. Is any of the data in the two data sets unnecessary? If yes, how did you handle it? No, no columns were dropped as they will be used later."
   ]
  },
  {
   "cell_type": "markdown",
   "id": "4820fb7d",
   "metadata": {},
   "source": [
    "## Data Manipulation\n",
    "\n",
    "Before you begin answering any questions, combine the two datasets together to create a third dataframe called `df`. You can use this third dataframe to compare the two call centers to company-wide trends.\n",
    "\n",
    "1. Group by Rep ID and sum the resulting structure. Sort by calls to determine which rep in each branch has the highest number of calls.\n",
    "2. The average call abandonment rate is a KPI when it comes to determining call center efficiency. As you may recall, abandoned calls are calls where the customer hangs up due to long call times. What is the average call abandonment rate for each branch and the whole company? Do any of these fall out of the optimal range of 2-5%?\n",
    "3. Service level is another KPI when it comes to measuring call center efficiency. Service level is the percentage of calls answered within a specific number of seconds. In the case of your employer, their ideal time frame is 2 seconds. What is the percentage of calls answered within 2 seconds for each branch and the entire company?\n",
    "4. For each branch and the entire company, what is the average speed of answer?"
   ]
  },
  {
   "cell_type": "code",
   "execution_count": 40,
   "id": "ea8fe600",
   "metadata": {},
   "outputs": [
    {
     "data": {
      "text/html": [
       "<div>\n",
       "<style scoped>\n",
       "    .dataframe tbody tr th:only-of-type {\n",
       "        vertical-align: middle;\n",
       "    }\n",
       "\n",
       "    .dataframe tbody tr th {\n",
       "        vertical-align: top;\n",
       "    }\n",
       "\n",
       "    .dataframe thead th {\n",
       "        text-align: right;\n",
       "    }\n",
       "</style>\n",
       "<table border=\"1\" class=\"dataframe\">\n",
       "  <thead>\n",
       "    <tr style=\"text-align: right;\">\n",
       "      <th></th>\n",
       "      <th>Branch</th>\n",
       "      <th>Call Purpose</th>\n",
       "      <th>Time Block</th>\n",
       "      <th>Incoming or Outgoing</th>\n",
       "      <th>Queue</th>\n",
       "      <th>Rep ID</th>\n",
       "      <th>Sale</th>\n",
       "      <th>Lost Call</th>\n",
       "      <th>Abandoned</th>\n",
       "      <th>Busy Minutes</th>\n",
       "      <th>Not Ready Minutes</th>\n",
       "      <th>Incoming Wait Time</th>\n",
       "      <th>During Call Wait Time</th>\n",
       "      <th>Calls</th>\n",
       "    </tr>\n",
       "  </thead>\n",
       "  <tbody>\n",
       "    <tr>\n",
       "      <th>0</th>\n",
       "      <td>North</td>\n",
       "      <td>Complaint</td>\n",
       "      <td>9:00 AM</td>\n",
       "      <td>Incoming</td>\n",
       "      <td>B</td>\n",
       "      <td>Brent</td>\n",
       "      <td>NO</td>\n",
       "      <td>0</td>\n",
       "      <td>1</td>\n",
       "      <td>9</td>\n",
       "      <td>2</td>\n",
       "      <td>1.0</td>\n",
       "      <td>4</td>\n",
       "      <td>1</td>\n",
       "    </tr>\n",
       "    <tr>\n",
       "      <th>1</th>\n",
       "      <td>North</td>\n",
       "      <td>Sales Support</td>\n",
       "      <td>11:00 AM</td>\n",
       "      <td>Incoming</td>\n",
       "      <td>A</td>\n",
       "      <td>Cam</td>\n",
       "      <td>NO</td>\n",
       "      <td>0</td>\n",
       "      <td>0</td>\n",
       "      <td>11</td>\n",
       "      <td>1</td>\n",
       "      <td>1.0</td>\n",
       "      <td>3</td>\n",
       "      <td>1</td>\n",
       "    </tr>\n",
       "    <tr>\n",
       "      <th>2</th>\n",
       "      <td>North</td>\n",
       "      <td>Sales Support</td>\n",
       "      <td>11:00 AM</td>\n",
       "      <td>Incoming</td>\n",
       "      <td>B</td>\n",
       "      <td>Todd</td>\n",
       "      <td>NO</td>\n",
       "      <td>0</td>\n",
       "      <td>0</td>\n",
       "      <td>9</td>\n",
       "      <td>3</td>\n",
       "      <td>1.0</td>\n",
       "      <td>3</td>\n",
       "      <td>1</td>\n",
       "    </tr>\n",
       "    <tr>\n",
       "      <th>3</th>\n",
       "      <td>North</td>\n",
       "      <td>Sales Support</td>\n",
       "      <td>4:00 PM</td>\n",
       "      <td>Incoming</td>\n",
       "      <td>B</td>\n",
       "      <td>Brent</td>\n",
       "      <td>NO</td>\n",
       "      <td>0</td>\n",
       "      <td>0</td>\n",
       "      <td>11</td>\n",
       "      <td>2</td>\n",
       "      <td>1.0</td>\n",
       "      <td>4</td>\n",
       "      <td>1</td>\n",
       "    </tr>\n",
       "    <tr>\n",
       "      <th>4</th>\n",
       "      <td>North</td>\n",
       "      <td>Product Support</td>\n",
       "      <td>12:00 PM</td>\n",
       "      <td>Incoming</td>\n",
       "      <td>B</td>\n",
       "      <td>Brent</td>\n",
       "      <td>NO</td>\n",
       "      <td>0</td>\n",
       "      <td>0</td>\n",
       "      <td>8</td>\n",
       "      <td>2</td>\n",
       "      <td>1.0</td>\n",
       "      <td>4</td>\n",
       "      <td>1</td>\n",
       "    </tr>\n",
       "    <tr>\n",
       "      <th>...</th>\n",
       "      <td>...</td>\n",
       "      <td>...</td>\n",
       "      <td>...</td>\n",
       "      <td>...</td>\n",
       "      <td>...</td>\n",
       "      <td>...</td>\n",
       "      <td>...</td>\n",
       "      <td>...</td>\n",
       "      <td>...</td>\n",
       "      <td>...</td>\n",
       "      <td>...</td>\n",
       "      <td>...</td>\n",
       "      <td>...</td>\n",
       "      <td>...</td>\n",
       "    </tr>\n",
       "    <tr>\n",
       "      <th>309</th>\n",
       "      <td>South</td>\n",
       "      <td>Product Support</td>\n",
       "      <td>5:00 PM</td>\n",
       "      <td>Outgoing</td>\n",
       "      <td>D</td>\n",
       "      <td>Helga</td>\n",
       "      <td>NO</td>\n",
       "      <td>0</td>\n",
       "      <td>0</td>\n",
       "      <td>10</td>\n",
       "      <td>3</td>\n",
       "      <td>NaN</td>\n",
       "      <td>4</td>\n",
       "      <td>1</td>\n",
       "    </tr>\n",
       "    <tr>\n",
       "      <th>310</th>\n",
       "      <td>South</td>\n",
       "      <td>Product Support</td>\n",
       "      <td>5:00 PM</td>\n",
       "      <td>Outgoing</td>\n",
       "      <td>C</td>\n",
       "      <td>Susan</td>\n",
       "      <td>NO</td>\n",
       "      <td>0</td>\n",
       "      <td>0</td>\n",
       "      <td>12</td>\n",
       "      <td>3</td>\n",
       "      <td>NaN</td>\n",
       "      <td>4</td>\n",
       "      <td>1</td>\n",
       "    </tr>\n",
       "    <tr>\n",
       "      <th>311</th>\n",
       "      <td>South</td>\n",
       "      <td>Product Support</td>\n",
       "      <td>5:00 PM</td>\n",
       "      <td>Outgoing</td>\n",
       "      <td>C</td>\n",
       "      <td>Sandy</td>\n",
       "      <td>NO</td>\n",
       "      <td>0</td>\n",
       "      <td>0</td>\n",
       "      <td>9</td>\n",
       "      <td>3</td>\n",
       "      <td>NaN</td>\n",
       "      <td>4</td>\n",
       "      <td>1</td>\n",
       "    </tr>\n",
       "    <tr>\n",
       "      <th>312</th>\n",
       "      <td>South</td>\n",
       "      <td>Product Support</td>\n",
       "      <td>5:00 PM</td>\n",
       "      <td>Outgoing</td>\n",
       "      <td>C</td>\n",
       "      <td>Eric</td>\n",
       "      <td>NO</td>\n",
       "      <td>0</td>\n",
       "      <td>0</td>\n",
       "      <td>10</td>\n",
       "      <td>1</td>\n",
       "      <td>NaN</td>\n",
       "      <td>2</td>\n",
       "      <td>1</td>\n",
       "    </tr>\n",
       "    <tr>\n",
       "      <th>313</th>\n",
       "      <td>South</td>\n",
       "      <td>Product Support</td>\n",
       "      <td>5:00 PM</td>\n",
       "      <td>Outgoing</td>\n",
       "      <td>D</td>\n",
       "      <td>George</td>\n",
       "      <td>NO</td>\n",
       "      <td>0</td>\n",
       "      <td>0</td>\n",
       "      <td>10</td>\n",
       "      <td>2</td>\n",
       "      <td>NaN</td>\n",
       "      <td>3</td>\n",
       "      <td>1</td>\n",
       "    </tr>\n",
       "  </tbody>\n",
       "</table>\n",
       "<p>559 rows × 14 columns</p>\n",
       "</div>"
      ],
      "text/plain": [
       "    Branch     Call Purpose Time Block Incoming or Outgoing Queue  Rep ID  \\\n",
       "0    North        Complaint    9:00 AM             Incoming     B   Brent   \n",
       "1    North    Sales Support   11:00 AM             Incoming     A     Cam   \n",
       "2    North    Sales Support   11:00 AM             Incoming     B    Todd   \n",
       "3    North    Sales Support    4:00 PM             Incoming     B   Brent   \n",
       "4    North  Product Support   12:00 PM             Incoming     B   Brent   \n",
       "..     ...              ...        ...                  ...   ...     ...   \n",
       "309  South  Product Support    5:00 PM             Outgoing     D   Helga   \n",
       "310  South  Product Support    5:00 PM             Outgoing     C   Susan   \n",
       "311  South  Product Support    5:00 PM             Outgoing     C   Sandy   \n",
       "312  South  Product Support    5:00 PM             Outgoing     C    Eric   \n",
       "313  South  Product Support    5:00 PM             Outgoing     D  George   \n",
       "\n",
       "    Sale  Lost Call  Abandoned  Busy Minutes  Not Ready Minutes  \\\n",
       "0     NO          0          1             9                  2   \n",
       "1     NO          0          0            11                  1   \n",
       "2     NO          0          0             9                  3   \n",
       "3     NO          0          0            11                  2   \n",
       "4     NO          0          0             8                  2   \n",
       "..   ...        ...        ...           ...                ...   \n",
       "309   NO          0          0            10                  3   \n",
       "310   NO          0          0            12                  3   \n",
       "311   NO          0          0             9                  3   \n",
       "312   NO          0          0            10                  1   \n",
       "313   NO          0          0            10                  2   \n",
       "\n",
       "     Incoming Wait Time  During Call Wait Time  Calls  \n",
       "0                   1.0                      4      1  \n",
       "1                   1.0                      3      1  \n",
       "2                   1.0                      3      1  \n",
       "3                   1.0                      4      1  \n",
       "4                   1.0                      4      1  \n",
       "..                  ...                    ...    ...  \n",
       "309                 NaN                      4      1  \n",
       "310                 NaN                      4      1  \n",
       "311                 NaN                      4      1  \n",
       "312                 NaN                      2      1  \n",
       "313                 NaN                      3      1  \n",
       "\n",
       "[559 rows x 14 columns]"
      ]
     },
     "execution_count": 40,
     "metadata": {},
     "output_type": "execute_result"
    }
   ],
   "source": [
    "# Manipulate data here\n",
    "df=df_north.append(df_south)\n",
    "df"
   ]
  },
  {
   "cell_type": "code",
   "execution_count": 41,
   "id": "8dde9adf",
   "metadata": {},
   "outputs": [
    {
     "data": {
      "text/plain": [
       "(559, 14)"
      ]
     },
     "execution_count": 41,
     "metadata": {},
     "output_type": "execute_result"
    }
   ],
   "source": [
    "df.shape"
   ]
  },
  {
   "cell_type": "code",
   "execution_count": 42,
   "id": "cd768662",
   "metadata": {},
   "outputs": [
    {
     "data": {
      "text/plain": [
       "Branch  Rep ID\n",
       "North   Brent     37\n",
       "        Lilly     30\n",
       "        Duke      29\n",
       "        Todd      29\n",
       "        Joe       26\n",
       "        Cam       24\n",
       "        Xander    24\n",
       "        Amanda    23\n",
       "        Andy      23\n",
       "South   Eric      35\n",
       "        Randy     33\n",
       "        Sandy     32\n",
       "        Helga     31\n",
       "        George    29\n",
       "        Kate      29\n",
       "        Karl      28\n",
       "        Josh      26\n",
       "        Susan     26\n",
       "        Sharon    25\n",
       "        Alice     20\n",
       "Name: Rep ID, dtype: int64"
      ]
     },
     "execution_count": 42,
     "metadata": {},
     "output_type": "execute_result"
    }
   ],
   "source": [
    "df.groupby(['Branch'])['Rep ID'].value_counts()\n",
    "#Brent has most calls for North-37\n",
    "#Eric has most calls for South-35"
   ]
  },
  {
   "cell_type": "code",
   "execution_count": 43,
   "id": "f2d8128e",
   "metadata": {},
   "outputs": [
    {
     "data": {
      "text/plain": [
       "0    548\n",
       "1     11\n",
       "Name: Abandoned, dtype: int64"
      ]
     },
     "execution_count": 43,
     "metadata": {},
     "output_type": "execute_result"
    }
   ],
   "source": [
    "#abandoned calls for company\n",
    "df['Abandoned'].value_counts()"
   ]
  },
  {
   "cell_type": "code",
   "execution_count": 45,
   "id": "6d7342d9",
   "metadata": {},
   "outputs": [
    {
     "name": "stdout",
     "output_type": "stream",
     "text": [
      "     Abandoned\n",
      "sum         11\n",
      "     Abandoned\n",
      "sum     1.9678\n"
     ]
    }
   ],
   "source": [
    "#The company is inside the optimal range of call abandonment\n",
    "abandoned=df.agg({'Abandoned':['sum']})\n",
    "print(abandoned)\n",
    "print(abandoned/len(df)*100)"
   ]
  },
  {
   "cell_type": "code",
   "execution_count": 529,
   "id": "3a2b8acf",
   "metadata": {},
   "outputs": [
    {
     "name": "stdout",
     "output_type": "stream",
     "text": [
      "       Abandoned\n",
      "             sum\n",
      "Branch          \n",
      "North          7\n",
      "South          4\n",
      "\n",
      "South    314\n",
      "North    245\n",
      "Name: Branch, dtype: int64\n",
      "\n",
      "North:  2.857142857142857\n",
      "South:  1.2738853503184715\n"
     ]
    }
   ],
   "source": [
    "#abandoned calls for North and South\n",
    "abandoned_branch=df.groupby(['Branch']).agg({'Abandoned':['sum']})\n",
    "print(abandoned_branch)\n",
    "print()\n",
    "print(df['Branch'].value_counts())\n",
    "print()\n",
    "print(\"North: \", 7/245*100)\n",
    "print(\"South: \", 4/314*100)\n",
    "\n",
    "#North is in the optimal range of call abandonment 2.85% and South is below the optimal range 1.27%.\n",
    "\n"
   ]
  },
  {
   "cell_type": "code",
   "execution_count": 46,
   "id": "5910c8e0",
   "metadata": {},
   "outputs": [
    {
     "name": "stdout",
     "output_type": "stream",
     "text": [
      "1.0    37\n",
      "2.0    44\n",
      "3.0    41\n",
      "4.0    50\n",
      "5.0    36\n",
      "Name: Incoming Wait Time, dtype: int64\n",
      "\n",
      "81\n",
      "\n",
      "14.490161001788909\n"
     ]
    }
   ],
   "source": [
    "#What is the percentage of calls answered within 2 seconds for each company and the entire company?\n",
    "calls_answered=df['Incoming Wait Time'].value_counts().sort_index()\n",
    "print(calls_answered)\n",
    "print()\n",
    "df1=df[df['Incoming Wait Time']<=2].groupby('Incoming Wait Time')['Incoming Wait Time'].count().sum()\n",
    "print(df1)\n",
    "print()\n",
    "print(df1/len(df)*100)\n",
    "\n",
    "#14.5% of the company calls are answered in 2 seconds or less"
   ]
  },
  {
   "cell_type": "code",
   "execution_count": 47,
   "id": "bc78ee42",
   "metadata": {},
   "outputs": [
    {
     "name": "stdout",
     "output_type": "stream",
     "text": [
      "Branch  Incoming Wait Time\n",
      "North   1.0                   17\n",
      "        2.0                   16\n",
      "        3.0                   12\n",
      "        4.0                   20\n",
      "        5.0                   17\n",
      "South   1.0                   20\n",
      "        2.0                   28\n",
      "        3.0                   29\n",
      "        4.0                   30\n",
      "        5.0                   19\n",
      "Name: Branch, dtype: int64\n",
      "\n",
      "South    314\n",
      "North    245\n",
      "Name: Branch, dtype: int64\n",
      "\n",
      "North:  13.46938775510204\n",
      "South:  15.286624203821656\n"
     ]
    }
   ],
   "source": [
    "calls_answered_branch=df.groupby(['Branch', 'Incoming Wait Time'])['Branch'].count()\n",
    "print(calls_answered_branch)\n",
    "print()\n",
    "print(df['Branch'].value_counts())\n",
    "print()\n",
    "print(\"North: \",33/245*100)\n",
    "print(\"South: \",48/314*100)\n",
    "\n",
    "#13.5% of North calls are answered in 2 seconds or less\n",
    "#15.2% of South calls are answered in 2 seconds or less"
   ]
  },
  {
   "cell_type": "code",
   "execution_count": 48,
   "id": "0b9f0744",
   "metadata": {},
   "outputs": [
    {
     "data": {
      "text/plain": [
       "3.019230769230769"
      ]
     },
     "execution_count": 48,
     "metadata": {},
     "output_type": "execute_result"
    }
   ],
   "source": [
    "#Speed of call\n",
    "call_speed=df['Incoming Wait Time'].mean()\n",
    "call_speed\n",
    "#average answer speed for the company is 3.02 seconds"
   ]
  },
  {
   "cell_type": "code",
   "execution_count": 49,
   "id": "9eb96592",
   "metadata": {},
   "outputs": [
    {
     "data": {
      "text/html": [
       "<div>\n",
       "<style scoped>\n",
       "    .dataframe tbody tr th:only-of-type {\n",
       "        vertical-align: middle;\n",
       "    }\n",
       "\n",
       "    .dataframe tbody tr th {\n",
       "        vertical-align: top;\n",
       "    }\n",
       "\n",
       "    .dataframe thead th {\n",
       "        text-align: right;\n",
       "    }\n",
       "</style>\n",
       "<table border=\"1\" class=\"dataframe\">\n",
       "  <thead>\n",
       "    <tr style=\"text-align: right;\">\n",
       "      <th></th>\n",
       "      <th>Incoming Wait Time</th>\n",
       "    </tr>\n",
       "  </thead>\n",
       "  <tbody>\n",
       "    <tr>\n",
       "      <th>mean</th>\n",
       "      <td>3.019231</td>\n",
       "    </tr>\n",
       "  </tbody>\n",
       "</table>\n",
       "</div>"
      ],
      "text/plain": [
       "      Incoming Wait Time\n",
       "mean            3.019231"
      ]
     },
     "execution_count": 49,
     "metadata": {},
     "output_type": "execute_result"
    }
   ],
   "source": [
    "call_speed=df.agg({'Incoming Wait Time':['mean']})\n",
    "call_speed\n",
    "#average answer speed is 3.02 for the company"
   ]
  },
  {
   "cell_type": "code",
   "execution_count": 50,
   "id": "4b06eef1",
   "metadata": {},
   "outputs": [
    {
     "data": {
      "text/html": [
       "<div>\n",
       "<style scoped>\n",
       "    .dataframe tbody tr th:only-of-type {\n",
       "        vertical-align: middle;\n",
       "    }\n",
       "\n",
       "    .dataframe tbody tr th {\n",
       "        vertical-align: top;\n",
       "    }\n",
       "\n",
       "    .dataframe thead tr th {\n",
       "        text-align: left;\n",
       "    }\n",
       "\n",
       "    .dataframe thead tr:last-of-type th {\n",
       "        text-align: right;\n",
       "    }\n",
       "</style>\n",
       "<table border=\"1\" class=\"dataframe\">\n",
       "  <thead>\n",
       "    <tr>\n",
       "      <th></th>\n",
       "      <th>Incoming Wait Time</th>\n",
       "    </tr>\n",
       "    <tr>\n",
       "      <th></th>\n",
       "      <th>mean</th>\n",
       "    </tr>\n",
       "    <tr>\n",
       "      <th>Branch</th>\n",
       "      <th></th>\n",
       "    </tr>\n",
       "  </thead>\n",
       "  <tbody>\n",
       "    <tr>\n",
       "      <th>North</th>\n",
       "      <td>3.04878</td>\n",
       "    </tr>\n",
       "    <tr>\n",
       "      <th>South</th>\n",
       "      <td>3.00000</td>\n",
       "    </tr>\n",
       "  </tbody>\n",
       "</table>\n",
       "</div>"
      ],
      "text/plain": [
       "       Incoming Wait Time\n",
       "                     mean\n",
       "Branch                   \n",
       "North             3.04878\n",
       "South             3.00000"
      ]
     },
     "execution_count": 50,
     "metadata": {},
     "output_type": "execute_result"
    }
   ],
   "source": [
    "call_speed_branch=df.groupby(['Branch']).agg({'Incoming Wait Time':['mean']})\n",
    "call_speed_branch\n",
    "#average answer speed is 3.04 for North and 3.0 for South."
   ]
  },
  {
   "cell_type": "markdown",
   "id": "7719da42",
   "metadata": {},
   "source": [
    "### Data Manipulation Results\n",
    "\n",
    "1. Group by Rep ID and sum the resulting structure. Sort by calls to determine which rep in each branch has the highest number of calls. Brent has most calls for North-37, Eric has most calls for South-35\n",
    "2. The average call abandonment rate is a KPI when it comes to determining call center efficiency. As you may recall, abandoned calls are calls where the customer hangs up due to long call times. What is the average call abandonment rate for each branch and the whole company? Do any of these fall out of the optimal range of 2-5%? The company is inside the optimal range of call abandonment(1.96%~2%). North is in the optimal range of call abandonment 2.85% and South is below the optimal range 1.27%.\n",
    "3. Service level is another KPI when it comes to measuring call center efficiency. Service level is the percentage of calls answered within a specific number of seconds. In the case of your employer, their ideal time frame is 2 seconds. What is the percentage of calls answered within 2 seconds for each company and the entire company? 14.5% of the company calls are answered in 2 seconds or less. 13.5% of North calls are answered in 2 seconds or less and 15.2% of South calls are answered in 2 seconds or less.\n",
    "4. For each branch and the entire company, what is the average speed of answer? average answer speed is 3.02 for the company. Average answer speed is 3.04 for North and 3.0 for South."
   ]
  },
  {
   "cell_type": "markdown",
   "id": "d816d6a2",
   "metadata": {},
   "source": [
    "## Visualization\n",
    "\n",
    "Create a visualization for each of the following questions. Some of the code to handle aggregating and storing data may be written for you. For each visualization, you choose the chart style that you feel suits the situation best. Make note of the chart style you chose and why.\n",
    "\n",
    "1. What is the average abandonment rate per queue?\n",
    "2. What is the service level and average speed of answer per each rep?\n",
    "3. For each type of call purpose, how many calls are outgoing vs. incoming?"
   ]
  },
  {
   "cell_type": "code",
   "execution_count": 684,
   "id": "5ce6b0f1",
   "metadata": {
    "scrolled": false
   },
   "outputs": [
    {
     "data": {
      "image/png": "[encoded data removed]",
      "text/plain": [
       "<Figure size 720x720 with 1 Axes>"
      ]
     },
     "metadata": {
      "needs_background": "light"
     },
     "output_type": "display_data"
    }
   ],
   "source": [
    "# Create visualization 1 here\n",
    "# The dictionary abandonment_rates has the data you need.\n",
    "\n",
    "abandonment_rates = {}\n",
    "queues = [\"A\", \"B\", \"C\", \"D\"]\n",
    "queue_dict = df.groupby(\"Queue\").agg(\"sum\")\n",
    "for i in range(4):\n",
    "    abandonment_rates[queues[i]] = queue_dict[\"Abandoned\"][i] / queue_dict[\"Calls\"][i] \n",
    "\n",
    "keys=abandonment_rates.keys()\n",
    "values=abandonment_rates.values()\n",
    "\n",
    "plt.figure(figsize=(10, 10))\n",
    "plt.bar(keys, values, color='teal')\n",
    "\n",
    "plt.xlabel('Abandonment Rate', color = 'black', fontsize = 16, fontweight = 'bold')\n",
    "plt.ylabel('Queues', color = 'black', fontsize = 16, fontweight = 'bold')\n",
    "plt.title('Average Abandonment Rater per Queue', color = 'black', fontsize = 16, fontweight = 'bold')\n",
    "plt.show()\n",
    "\n",
    "#Chose a bar graph to easily see which queues has the most abandonment calls.\n",
    "    \n",
    "    "
   ]
  },
  {
   "cell_type": "code",
   "execution_count": 55,
   "id": "824943f3",
   "metadata": {},
   "outputs": [
    {
     "data": {
      "image/png": "[encoded data removed]",
      "text/plain": [
       "<Figure size 864x576 with 2 Axes>"
      ]
     },
     "metadata": {
      "needs_background": "light"
     },
     "output_type": "display_data"
    }
   ],
   "source": [
    "# Create visualization 2 here\n",
    "# north_plt contains the data you need for the average speed of answer of each rep\n",
    "\n",
    "north_plt = df_north.groupby(\"Rep ID\")[\"Incoming Wait Time\"].mean().to_frame().reset_index()\n",
    "\n",
    "# Finding each Rep's Personal Service Level Percentage.  Basically, Calls within 2 secs / total calls\n",
    "\n",
    "# Table 1: Total Incoming calls less than 2 seconds grouped by Rep\n",
    "quick_calls = df_north[df_north[\"Incoming Wait Time\"] <= 2.0]\n",
    "quick_reps = quick_calls[[\"Rep ID\", \"Calls\"]]\n",
    "quick_stats = quick_reps.groupby([\"Rep ID\"]).sum()  # Final Table\n",
    "\n",
    "\n",
    "# Table 2: Total Incoming Calls Only grouped by Rep\n",
    "total_calls_in = df_north[df_north[\"Incoming or Outgoing\"] == \"Incoming\"]\n",
    "rep_calls = total_calls_in[[\"Rep ID\", \"Calls\"]]     \n",
    "total_stats = rep_calls.groupby([\"Rep ID\"]).sum() # Final Table  \n",
    "\n",
    "#  Table 3: Service Level Percentage created via merge\n",
    "service_level = pd.merge(quick_stats, total_stats, on=\"Rep ID\")\n",
    "\n",
    "# Create Percentage Column in Table 3\n",
    "service_level[\"Service Level %\"] = service_level[\"Calls_x\"]/service_level[\"Calls_y\"] * 100\n",
    "\n",
    "#plt.figure(figsize=(12, 8))\n",
    "#service_level['Service Level %'].sort_values(ascending=True).plot.barh(service_level[\"Service Level %\"], color='teal')\n",
    "#plt.xlabel('Service Level Percentage', color = 'black', fontsize = 16, fontweight = 'bold')\n",
    "#plt.ylabel('Rep ID', color = 'black', fontsize = 16, fontweight = 'bold')\n",
    "#plt.title('Service Level by Rep ID', color = 'black', fontsize = 16, fontweight = 'bold')\n",
    "#plt.show()\n",
    "#the horizontal bar chart easily shows who leads in service level percentage by rep id.\n",
    "\n",
    "fig = plt.figure(figsize=(12, 8)) # Create matplotlib figure\n",
    "\n",
    "ax = fig.add_subplot(111) # Create matplotlib axes\n",
    "ax2 = ax.twinx() # Create another axes that shares the same x-axis as ax.\n",
    "\n",
    "width = 0.4\n",
    "\n",
    "north_plt.plot(kind='bar', color='teal', ax=ax, width=width, position=1)\n",
    "service_level[\"Service Level %\"].plot(kind='bar', color='yellowgreen', ax=ax2, width=width, position=0)\n",
    "\n",
    "ax.set_ylabel('Incoming Wait Time',color = 'black', fontsize = 20, fontweight = 'bold')\n",
    "ax2.set_ylabel('Service Level %',color = 'black', fontsize = 20, fontweight = 'bold')\n",
    "\n",
    "plt.title('Incoming Wait Times and Service Level %', color = 'black', fontsize = 20, fontweight = 'bold')\n",
    "\n",
    "plt.show()\n",
    "\n",
    "#Grouped bar chart shows each reps Service Level % and Incoming Wait time."
   ]
  },
  {
   "cell_type": "code",
   "execution_count": 836,
   "id": "d3d77a58",
   "metadata": {},
   "outputs": [
    {
     "name": "stdout",
     "output_type": "stream",
     "text": [
      "{'Incoming': 51}\n",
      "{'Outgoing': 123, 'Incoming': 75}\n",
      "{'Outgoing': 228, 'Incoming': 82}\n",
      "{'Complaints': [51, 0], 'Sales Support': [75, 123], 'Product Support': [82, 228]}\n"
     ]
    },
    {
     "data": {
      "image/png": "[encoded data removed]",
      "text/plain": [
       "<Figure size 1440x720 with 1 Axes>"
      ]
     },
     "metadata": {
      "needs_background": "light"
     },
     "output_type": "display_data"
    }
   ],
   "source": [
    "# Create visualization 3 here\n",
    "# The three dictionaries, complaints, sales_support, and product_support, have the information you need\n",
    "df.head()\n",
    "\n",
    "purpose_counts = purpose_group[\"Incoming or Outgoing\"].value_counts()\n",
    "complaints = purpose_counts[\"Complaint\"].to_dict()\n",
    "print(complaints)\n",
    "sales_support = purpose_counts[\"Sales Support\"].to_dict()\n",
    "print(sales_support)\n",
    "product_support = purpose_counts[\"Product Support\"].to_dict()\n",
    "print(product_support)\n",
    "data={\n",
    "    \"Complaints\": [51, 0],\n",
    "    \"Sales Support\": [75, 123],\n",
    "    \"Product Support\": [82, 228]\n",
    "}\n",
    "print(data)\n",
    "\n",
    "d=pd.DataFrame(data).T\n",
    "d.plot(kind='bar', color=['teal', 'yellowgreen'])\n",
    "plt.xlabel('Call Purpose', color = 'black', fontsize = 20, fontweight = 'bold')\n",
    "plt.ylabel('Incoming and Outgoing Calls', color = 'black', fontsize = 20, fontweight = 'bold')\n",
    "plt.title('Incoming and Outgoing Calls for Call Purpose', color = 'black', fontsize = 20, fontweight = 'bold')\n",
    "plt.legend(['Incoming', 'Outgoing'], loc = 'upper left', prop={'size': 30}, fontsize = 15)\n",
    "plt.xticks(color = 'black',fontsize=16, fontweight='bold')\n",
    "plt.yticks(color = 'black',fontsize=16, fontweight='bold')\n",
    "plt.show()\n",
    "\n",
    "#Chose the grouped bar charp to clearly see how many calls by purpose were incoming and outgoing. Can clearly see complaints are only incoming and most outgoing calls are for product support."
   ]
  },
  {
   "cell_type": "markdown",
   "id": "09d471fc",
   "metadata": {},
   "source": [
    "### Visualization Results\n",
    "\n",
    "For each chart you created, explain why you chose the chart style you chose."
   ]
  },
  {
   "cell_type": "markdown",
   "id": "60770519",
   "metadata": {},
   "source": [
    "## Summarize Your Work\n",
    "\n",
    "With what you know now about the two call centers and the entire company, answer the following questions. Note that while this is subjective, you should include relevant data to back up your opinion.\n",
    "\n",
    "1. Using KPIs such as average abandonment rate, service level and average speed of answer, in your opinion, which one of the two branches is operating more efficiently? Why? The South branch is operating more efficiently. South branch abandonment rate=4, sevice level=15.2, and average speed of answer=3.0 which is better than the North branch with abandonment rate=7, service level=13.5, and average speed of answer= 3.05. The south branch has 11 reps while the north branch only has 9 which could account for the efficiency of each branch.\n",
    "2. Based on the number of reps in each branch and how quickly the reps are working, in your opinion, which branch would benefit from the extra help? Due to the better efficiency of the South branch, the North branch would benefit more from adding new reps. The South branch currently has 11 reps while the North branch only has 9 which could be contribting to how quickly the reps are working. \n",
    "3. Now that you have explored the datasets, is there any data or information that you wish you had in this analysis? Information that would have been helpful is how long each call was and survey scores if they sent a survey out after the call."
   ]
  },
  {
   "cell_type": "markdown",
   "id": "76619a15",
   "metadata": {},
   "source": [
    "## Submit Your Work\n",
    "\n",
    "After you have completed your work on the assignment, push your work to your Github repo. Navigate to the repo, copy the link to your assignment and paste the URL in the Canvas assignment's submission box. "
   ]
  },
  {
   "cell_type": "markdown",
   "id": "cc90141d",
   "metadata": {},
   "source": [
    "## Bonus Mission\n",
    "\n",
    "Create a visualization that answers this question:\n",
    "\n",
    "1. For each call purpose, how many calls (incoming and outgoing) take place in each time block?"
   ]
  },
  {
   "cell_type": "code",
   "execution_count": null,
   "id": "e9d48ce7",
   "metadata": {},
   "outputs": [],
   "source": [
    "# Create your visualization here!\n",
    "call_times = df[[\"Time Block\", \"Call Purpose\", \"Incoming or Outgoing\", \"Calls\"]]\n",
    "\n",
    "# Use groupby to plot based on time blocks:\n",
    "\n",
    "# Use groupby and get_group to select which call purpose to plot:\n"
   ]
  }
 ],
 "metadata": {
  "kernelspec": {
   "display_name": "Python 3 (ipykernel)",
   "language": "python",
   "name": "python3"
  },
  "language_info": {
   "codemirror_mode": {
    "name": "ipython",
    "version": 3
   },
   "file_extension": ".py",
   "mimetype": "text/x-python",
   "name": "python",
   "nbconvert_exporter": "python",
   "pygments_lexer": "ipython3",
   "version": "3.9.5"
  }
 },
 "nbformat": 4,
 "nbformat_minor": 5
}
